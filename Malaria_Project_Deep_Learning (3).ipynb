{
  "nbformat": 4,
  "nbformat_minor": 0,
  "metadata": {
    "colab": {
      "provenance": []
    },
    "kernelspec": {
      "name": "python3",
      "display_name": "Python 3"
    },
    "language_info": {
      "name": "python"
    }
  },
  "cells": [
    {
      "cell_type": "code",
      "execution_count": 2,
      "metadata": {
        "colab": {
          "base_uri": "https://localhost:8080/"
        },
        "id": "5Y1r1gvT5TKI",
        "outputId": "96735ed7-b9da-451c-b6b9-372846b21e93"
      },
      "outputs": [
        {
          "output_type": "stream",
          "name": "stdout",
          "text": [
            "Downloading dataset from Google Drive...\n"
          ]
        },
        {
          "output_type": "stream",
          "name": "stderr",
          "text": [
            "Downloading...\n",
            "From (original): https://drive.google.com/uc?id=17vl0xRNhaAfLoRz0Rpxw1h-vBK9ektvn\n",
            "From (redirected): https://drive.google.com/uc?id=17vl0xRNhaAfLoRz0Rpxw1h-vBK9ektvn&confirm=t&uuid=a151025e-cc4c-4fca-aa07-93476f54b8e2\n",
            "To: /content/cats_and_dogs.zip\n",
            "100%|██████████| 708M/708M [00:19<00:00, 36.8MB/s]\n"
          ]
        },
        {
          "output_type": "stream",
          "name": "stdout",
          "text": [
            "Dataset extracted to: dataset\n",
            "Contents: ['cell_images']\n"
          ]
        }
      ],
      "source": [
        "!pip install gdown --quiet\n",
        "\n",
        "import gdown\n",
        "import zipfile\n",
        "import os\n",
        "import shutil\n",
        "from sklearn.model_selection import train_test_split\n",
        "\n",
        "# New file ID from your Google Drive link\n",
        "file_id = \"17vl0xRNhaAfLoRz0Rpxw1h-vBK9ektvn\"\n",
        "url = f\"https://drive.google.com/uc?id={file_id}\"\n",
        "output = \"cats_and_dogs.zip\"\n",
        "\n",
        "print(\"Downloading dataset from Google Drive...\")\n",
        "gdown.download(url, output, quiet=False)\n",
        "\n",
        "# Extract ZIP\n",
        "extract_path = \"dataset\"\n",
        "os.makedirs(extract_path, exist_ok=True)\n",
        "\n",
        "with zipfile.ZipFile(output, 'r') as zip_ref:\n",
        "    zip_ref.extractall(extract_path)\n",
        "\n",
        "print(\"Dataset extracted to:\", extract_path)\n",
        "print(\"Contents:\", os.listdir(extract_path))\n",
        "\n"
      ]
    },
    {
      "cell_type": "markdown",
      "source": [
        "**Description**\n",
        "\n",
        "Downloads a dataset (Parasitized, Uninfected) from Google Drive using the gdown library.\n",
        "\n",
        "It saves the file as a ZIP, then extracts it into a folder named dataset.\n",
        "\n",
        "After extraction, it shows the path and lists the contents of the dataset folder.\n",
        "\n",
        "It automates downloading and preparing the dataset for further use."
      ],
      "metadata": {
        "id": "jMNHKC1Gs2HM"
      }
    },
    {
      "cell_type": "code",
      "source": [
        "import os\n",
        "import shutil\n",
        "from sklearn.model_selection import train_test_split\n",
        "\n",
        "# Paths\n",
        "data_dir = \"dataset/cell_images\"\n",
        "output_dir = \"dataset_split\"\n",
        "\n",
        "# Create train/test directories\n",
        "for split in [\"train\", \"test\"]:\n",
        "    for category in [\"Parasitized\", \"Uninfected\"]:\n",
        "        os.makedirs(os.path.join(output_dir, split, category), exist_ok=True)\n",
        "\n",
        "# Split each category\n",
        "for category in [\"Parasitized\", \"Uninfected\"]:\n",
        "    category_path = os.path.join(data_dir, category)\n",
        "    images = os.listdir(category_path)\n",
        "\n",
        "    train_imgs, test_imgs = train_test_split(images, test_size=0.2, random_state=42)\n",
        "\n",
        "    # Copy train images\n",
        "    for img in train_imgs:\n",
        "        shutil.copy(os.path.join(category_path, img),\n",
        "                    os.path.join(output_dir, \"train\", category, img))\n",
        "\n",
        "    # Copy test images\n",
        "    for img in test_imgs:\n",
        "        shutil.copy(os.path.join(category_path, img),\n",
        "                    os.path.join(output_dir, \"test\", category, img))\n",
        "\n",
        "print(\"Dataset successfully split into train and test folders!\")\n"
      ],
      "metadata": {
        "id": "W_Iaf3oS6Zhi",
        "colab": {
          "base_uri": "https://localhost:8080/"
        },
        "outputId": "68a6c8dc-379d-4dd2-a7a2-ab2f78146d9b"
      },
      "execution_count": 3,
      "outputs": [
        {
          "output_type": "stream",
          "name": "stdout",
          "text": [
            "Dataset successfully split into train and test folders!\n"
          ]
        }
      ]
    },
    {
      "cell_type": "markdown",
      "source": [
        "**Description**\n",
        "\n",
        "It prepares the dataset for model training and evaluation.\n",
        "\n",
        "Organizes the malaria cell images dataset by splitting it into training and testing sets. It first creates separate folders for each category (Parasitized and Uninfected) under both train and test.\n",
        "\n",
        "Then, it randomly divides the images (80% for training, 20% for testing) and copies them into their respective folders."
      ],
      "metadata": {
        "id": "fuUBDpgitUu4"
      }
    },
    {
      "cell_type": "code",
      "source": [
        "from tensorflow.keras.preprocessing.image import ImageDataGenerator\n",
        "\n",
        "train_datagen = ImageDataGenerator(\n",
        "    rescale=1./255,\n",
        "    rotation_range=20,\n",
        "    width_shift_range=0.2,\n",
        "    height_shift_range=0.2,\n",
        "    shear_range=0.2,\n",
        "    zoom_range=0.2,\n",
        "    horizontal_flip=True\n",
        ")\n",
        "\n",
        "test_datagen = ImageDataGenerator(rescale=1./255)\n",
        "\n",
        "train_generator = train_datagen.flow_from_directory(\n",
        "    \"dataset_split/train\",\n",
        "    target_size=(150, 150),\n",
        "    batch_size=32,\n",
        "    class_mode='binary'\n",
        ")\n",
        "\n",
        "test_generator = test_datagen.flow_from_directory(\n",
        "    \"dataset_split/test\",\n",
        "    target_size=(150, 150),\n",
        "    batch_size=32,\n",
        "    class_mode='binary'\n",
        ")\n"
      ],
      "metadata": {
        "colab": {
          "base_uri": "https://localhost:8080/"
        },
        "id": "VvkwgUN0HpX6",
        "outputId": "9de2ec2c-82d4-4c0b-fc83-126c0f5e6fcd"
      },
      "execution_count": 4,
      "outputs": [
        {
          "output_type": "stream",
          "name": "stdout",
          "text": [
            "Found 22046 images belonging to 2 classes.\n",
            "Found 5512 images belonging to 2 classes.\n"
          ]
        }
      ]
    },
    {
      "cell_type": "markdown",
      "source": [
        "**Description**\n",
        "\n",
        "Prepares the dataset for training a deep learning model using Keras’ ImageDataGenerator.\n",
        "\n",
        "The training images are rescaled and augmented with transformations like rotation, zoom, shifts, and flips to improve model generalization.\n",
        "\n",
        "The test images are only rescaled to keep them unchanged for evaluation.\n",
        "\n",
        "It creates train_generator and test_generator that load images from the split folders, resize them to 150×150, and assign binary class labels (Parasitized or Uninfected).\n"
      ],
      "metadata": {
        "id": "tII0NrH6tp3x"
      }
    },
    {
      "cell_type": "code",
      "source": [
        "from tensorflow.keras import layers, models\n",
        "\n",
        "model = models.Sequential([\n",
        "    layers.Conv2D(32, (3,3), activation='relu', input_shape=(150,150,3)),\n",
        "    layers.MaxPooling2D((2,2)),\n",
        "    layers.Conv2D(64, (3,3), activation='relu'),\n",
        "    layers.MaxPooling2D((2,2)),\n",
        "    layers.Conv2D(128, (3,3), activation='relu'),\n",
        "    layers.MaxPooling2D((2,2)),\n",
        "    layers.Flatten(),\n",
        "    layers.Dense(128, activation='relu'),\n",
        "    layers.Dense(1, activation='sigmoid')\n",
        "])\n",
        "\n",
        "model.compile(optimizer='adam', loss='binary_crossentropy', metrics=['accuracy'])\n"
      ],
      "metadata": {
        "colab": {
          "base_uri": "https://localhost:8080/"
        },
        "id": "AfQH4vPkHubl",
        "outputId": "37cfe00e-2044-4aa0-eb6d-08f15d7f0c7b"
      },
      "execution_count": 5,
      "outputs": [
        {
          "output_type": "stream",
          "name": "stderr",
          "text": [
            "/usr/local/lib/python3.12/dist-packages/keras/src/layers/convolutional/base_conv.py:113: UserWarning: Do not pass an `input_shape`/`input_dim` argument to a layer. When using Sequential models, prefer using an `Input(shape)` object as the first layer in the model instead.\n",
            "  super().__init__(activity_regularizer=activity_regularizer, **kwargs)\n"
          ]
        }
      ]
    },
    {
      "cell_type": "markdown",
      "source": [
        "**Description**\n",
        "\n",
        "Builds a Convolutional Neural Network (CNN) for classifying cell images as parasitized or uninfected.\n",
        "\n",
        "The model has convolution and pooling layers to extract image features, followed by dense layers for classification.\n",
        "\n",
        "The final layer uses a sigmoid activation to output a probability for binary classification.\n",
        "\n",
        "The model is compiled with the Adam optimizer, binary cross-entropy loss, and accuracy as the evaluation metric."
      ],
      "metadata": {
        "id": "3t0SzD2euBYJ"
      }
    },
    {
      "cell_type": "code",
      "source": [
        "history = model.fit(\n",
        "    train_generator,\n",
        "    validation_data=test_generator,\n",
        "    epochs=10\n",
        ")\n"
      ],
      "metadata": {
        "colab": {
          "base_uri": "https://localhost:8080/"
        },
        "id": "VyPlH9o4HzTJ",
        "outputId": "1c7fe27e-364a-461d-ca12-b10932035b4a"
      },
      "execution_count": 6,
      "outputs": [
        {
          "metadata": {
            "tags": null
          },
          "name": "stderr",
          "output_type": "stream",
          "text": [
            "/usr/local/lib/python3.12/dist-packages/keras/src/trainers/data_adapters/py_dataset_adapter.py:121: UserWarning: Your `PyDataset` class should call `super().__init__(**kwargs)` in its constructor. `**kwargs` can include `workers`, `use_multiprocessing`, `max_queue_size`. Do not pass these arguments to `fit()`, as they will be ignored.\n",
            "  self._warn_if_super_not_called()\n"
          ]
        },
        {
          "output_type": "stream",
          "name": "stdout",
          "text": [
            "Epoch 1/10\n",
            "\u001b[1m689/689\u001b[0m \u001b[32m━━━━━━━━━━━━━━━━━━━━\u001b[0m\u001b[37m\u001b[0m \u001b[1m675s\u001b[0m 975ms/step - accuracy: 0.6040 - loss: 0.6430 - val_accuracy: 0.9383 - val_loss: 0.1770\n",
            "Epoch 2/10\n",
            "\u001b[1m689/689\u001b[0m \u001b[32m━━━━━━━━━━━━━━━━━━━━\u001b[0m\u001b[37m\u001b[0m \u001b[1m668s\u001b[0m 969ms/step - accuracy: 0.9026 - loss: 0.2577 - val_accuracy: 0.8886 - val_loss: 0.2329\n",
            "Epoch 3/10\n",
            "\u001b[1m689/689\u001b[0m \u001b[32m━━━━━━━━━━━━━━━━━━━━\u001b[0m\u001b[37m\u001b[0m \u001b[1m727s\u001b[0m 1s/step - accuracy: 0.9178 - loss: 0.2318 - val_accuracy: 0.9503 - val_loss: 0.1631\n",
            "Epoch 4/10\n",
            "\u001b[1m689/689\u001b[0m \u001b[32m━━━━━━━━━━━━━━━━━━━━\u001b[0m\u001b[37m\u001b[0m \u001b[1m703s\u001b[0m 1s/step - accuracy: 0.9229 - loss: 0.2232 - val_accuracy: 0.9537 - val_loss: 0.1612\n",
            "Epoch 5/10\n",
            "\u001b[1m689/689\u001b[0m \u001b[32m━━━━━━━━━━━━━━━━━━━━\u001b[0m\u001b[37m\u001b[0m \u001b[1m663s\u001b[0m 962ms/step - accuracy: 0.9312 - loss: 0.2043 - val_accuracy: 0.9563 - val_loss: 0.1510\n",
            "Epoch 6/10\n",
            "\u001b[1m689/689\u001b[0m \u001b[32m━━━━━━━━━━━━━━━━━━━━\u001b[0m\u001b[37m\u001b[0m \u001b[1m680s\u001b[0m 958ms/step - accuracy: 0.9340 - loss: 0.1973 - val_accuracy: 0.9570 - val_loss: 0.1288\n",
            "Epoch 7/10\n",
            "\u001b[1m689/689\u001b[0m \u001b[32m━━━━━━━━━━━━━━━━━━━━\u001b[0m\u001b[37m\u001b[0m \u001b[1m685s\u001b[0m 964ms/step - accuracy: 0.9375 - loss: 0.1919 - val_accuracy: 0.9572 - val_loss: 0.1438\n",
            "Epoch 8/10\n",
            "\u001b[1m689/689\u001b[0m \u001b[32m━━━━━━━━━━━━━━━━━━━━\u001b[0m\u001b[37m\u001b[0m \u001b[1m795s\u001b[0m 1s/step - accuracy: 0.9363 - loss: 0.1890 - val_accuracy: 0.9585 - val_loss: 0.1298\n",
            "Epoch 9/10\n",
            "\u001b[1m689/689\u001b[0m \u001b[32m━━━━━━━━━━━━━━━━━━━━\u001b[0m\u001b[37m\u001b[0m \u001b[1m672s\u001b[0m 975ms/step - accuracy: 0.9358 - loss: 0.1877 - val_accuracy: 0.9597 - val_loss: 0.1385\n",
            "Epoch 10/10\n",
            "\u001b[1m689/689\u001b[0m \u001b[32m━━━━━━━━━━━━━━━━━━━━\u001b[0m\u001b[37m\u001b[0m \u001b[1m683s\u001b[0m 991ms/step - accuracy: 0.9344 - loss: 0.1880 - val_accuracy: 0.9496 - val_loss: 0.1498\n"
          ]
        }
      ]
    },
    {
      "cell_type": "markdown",
      "source": [
        "It trains the CNN model using the prepared training data (train_generator) for 10 epochs. During training, it also evaluates performance on the test set (validation_data) to monitor accuracy and loss."
      ],
      "metadata": {
        "id": "ECo5Am98uTyX"
      }
    },
    {
      "cell_type": "code",
      "source": [
        "loss, acc = model.evaluate(test_generator)\n",
        "print(f\"Test Accuracy: {acc*100:.2f}%\")\n"
      ],
      "metadata": {
        "colab": {
          "base_uri": "https://localhost:8080/"
        },
        "id": "kdC2TIbxH2hX",
        "outputId": "c60c1c4c-6ed2-4502-d545-887fc8e14524"
      },
      "execution_count": 7,
      "outputs": [
        {
          "output_type": "stream",
          "name": "stdout",
          "text": [
            "\u001b[1m173/173\u001b[0m \u001b[32m━━━━━━━━━━━━━━━━━━━━\u001b[0m\u001b[37m\u001b[0m \u001b[1m44s\u001b[0m 257ms/step - accuracy: 0.9517 - loss: 0.1371\n",
            "Test Accuracy: 94.96%\n"
          ]
        }
      ]
    },
    {
      "cell_type": "markdown",
      "source": [
        "It calculates the loss and accuracy, then prints the test accuracy as a percentage. It tells how well the model performs on unseen data."
      ],
      "metadata": {
        "id": "_U_Il7_Jufmo"
      }
    },
    {
      "cell_type": "code",
      "source": [
        "import random\n",
        "import matplotlib.pyplot as plt\n",
        "from tensorflow.keras.preprocessing import image\n",
        "import numpy as np\n",
        "import os\n",
        "\n",
        "# Pick a random image from test set\n",
        "category = random.choice([\"Parasitized\", \"Uninfected\"])\n",
        "folder = os.path.join(\"dataset_split/test\", category)\n",
        "img_name = random.choice(os.listdir(folder))\n",
        "img_path = os.path.join(folder, img_name)\n",
        "\n",
        "# Load and preprocess\n",
        "img = image.load_img(img_path, target_size=(150, 150))\n",
        "img_array = image.img_to_array(img)/255.0\n",
        "img_array = np.expand_dims(img_array, axis=0)\n",
        "\n",
        "# Prediction\n",
        "prediction = model.predict(img_array)[0][0]\n",
        "\n",
        "# Show result\n",
        "plt.imshow(plt.imread(img_path))\n",
        "plt.axis(\"off\")\n",
        "\n",
        "# Fix: match with class indices\n",
        "pred_label = \"Uninfected\" if prediction > 0.5 else \"Parasitized\"\n",
        "plt.title(f\"Predicted: {pred_label}\\nActual: {category}\")\n",
        "plt.show()\n",
        "\n"
      ],
      "metadata": {
        "colab": {
          "base_uri": "https://localhost:8080/",
          "height": 466
        },
        "id": "n-wDamW5u0_y",
        "outputId": "23921477-9849-4792-dee1-24084b3ef4fa"
      },
      "execution_count": 17,
      "outputs": [
        {
          "output_type": "stream",
          "name": "stdout",
          "text": [
            "\u001b[1m1/1\u001b[0m \u001b[32m━━━━━━━━━━━━━━━━━━━━\u001b[0m\u001b[37m\u001b[0m \u001b[1m0s\u001b[0m 45ms/step\n"
          ]
        },
        {
          "output_type": "display_data",
          "data": {
            "text/plain": [
              "<Figure size 640x480 with 1 Axes>"
            ],
            "image/png": "[encoded data removed]"
          },
          "metadata": {}
        }
      ]
    },
    {
      "cell_type": "markdown",
      "source": [
        "Tests the trained model on a randomly chosen image from the test set.\n",
        "\n",
        "It loads and preprocesses the image, makes a prediction, and compares the predicted label with the actual category.\n",
        "\n",
        "And it displays the image using Matplotlib along with the predicted and actual labels in the title.\n",
        "\n",
        "This helps visually check how well the model classifies individual samples."
      ],
      "metadata": {
        "id": "kIBgS969u9NO"
      }
    },
    {
      "cell_type": "code",
      "source": [
        "from google.colab import files\n",
        "from tensorflow.keras.preprocessing import image\n",
        "import numpy as np\n",
        "import matplotlib.pyplot as plt\n",
        "\n",
        "# 1. Upload an image\n",
        "uploaded = files.upload()\n",
        "\n",
        "for filename in uploaded.keys():\n",
        "    img_path = filename  # file name of uploaded image\n",
        "\n",
        "    # 2. Load and preprocess image\n",
        "    img = image.load_img(img_path, target_size=(150, 150))\n",
        "    img_array = image.img_to_array(img) / 255.0\n",
        "    img_array = np.expand_dims(img_array, axis=0)\n",
        "\n",
        "\n",
        "# 3. Predict\n",
        "prediction = model.predict(img_array)[0][0]\n",
        "\n",
        "# 4. Show result\n",
        "plt.imshow(plt.imread(img_path))\n",
        "plt.axis(\"off\")\n",
        "\n",
        "# Correct mapping (since 0 = Parasitized, 1 = Uninfected)\n",
        "label = \"Uninfected (Healthy)\" if prediction > 0.5 else \"Parasitized (Infected)\"\n",
        "plt.title(f\"Prediction: {label}\")\n",
        "plt.show()\n"
      ],
      "metadata": {
        "colab": {
          "base_uri": "https://localhost:8080/",
          "height": 501
        },
        "id": "RNknjDE9phjm",
        "outputId": "bee7587d-d614-49ff-9e09-f0f829e1119a"
      },
      "execution_count": 9,
      "outputs": [
        {
          "output_type": "display_data",
          "data": {
            "text/plain": [
              "<IPython.core.display.HTML object>"
            ],
            "text/html": [
              "\n",
              "     <input type=\"file\" id=\"files-e1fb10fb-0f3b-4594-ad02-b8a1ebf53b58\" name=\"files[]\" multiple disabled\n",
              "        style=\"border:none\" />\n",
              "     <output id=\"result-e1fb10fb-0f3b-4594-ad02-b8a1ebf53b58\">\n",
              "      Upload widget is only available when the cell has been executed in the\n",
              "      current browser session. Please rerun this cell to enable.\n",
              "      </output>\n",
              "      <script>// Copyright 2017 Google LLC\n",
              "//\n",
              "// Licensed under the Apache License, Version 2.0 (the \"License\");\n",
              "// you may not use this file except in compliance with the License.\n",
              "// You may obtain a copy of the License at\n",
              "//\n",
              "//      http://www.apache.org/licenses/LICENSE-2.0\n",
              "//\n",
              "// Unless required by applicable law or agreed to in writing, software\n",
              "// distributed under the License is distributed on an \"AS IS\" BASIS,\n",
              "// WITHOUT WARRANTIES OR CONDITIONS OF ANY KIND, either express or implied.\n",
              "// See the License for the specific language governing permissions and\n",
              "// limitations under the License.\n",
              "\n",
              "/**\n",
              " * @fileoverview Helpers for google.colab Python module.\n",
              " */\n",
              "(function(scope) {\n",
              "function span(text, styleAttributes = {}) {\n",
              "  const element = document.createElement('span');\n",
              "  element.textContent = text;\n",
              "  for (const key of Object.keys(styleAttributes)) {\n",
              "    element.style[key] = styleAttributes[key];\n",
              "  }\n",
              "  return element;\n",
              "}\n",
              "\n",
              "// Max number of bytes which will be uploaded at a time.\n",
              "const MAX_PAYLOAD_SIZE = 100 * 1024;\n",
              "\n",
              "function _uploadFiles(inputId, outputId) {\n",
              "  const steps = uploadFilesStep(inputId, outputId);\n",
              "  const outputElement = document.getElementById(outputId);\n",
              "  // Cache steps on the outputElement to make it available for the next call\n",
              "  // to uploadFilesContinue from Python.\n",
              "  outputElement.steps = steps;\n",
              "\n",
              "  return _uploadFilesContinue(outputId);\n",
              "}\n",
              "\n",
              "// This is roughly an async generator (not supported in the browser yet),\n",
              "// where there are multiple asynchronous steps and the Python side is going\n",
              "// to poll for completion of each step.\n",
              "// This uses a Promise to block the python side on completion of each step,\n",
              "// then passes the result of the previous step as the input to the next step.\n",
              "function _uploadFilesContinue(outputId) {\n",
              "  const outputElement = document.getElementById(outputId);\n",
              "  const steps = outputElement.steps;\n",
              "\n",
              "  const next = steps.next(outputElement.lastPromiseValue);\n",
              "  return Promise.resolve(next.value.promise).then((value) => {\n",
              "    // Cache the last promise value to make it available to the next\n",
              "    // step of the generator.\n",
              "    outputElement.lastPromiseValue = value;\n",
              "    return next.value.response;\n",
              "  });\n",
              "}\n",
              "\n",
              "/**\n",
              " * Generator function which is called between each async step of the upload\n",
              " * process.\n",
              " * @param {string} inputId Element ID of the input file picker element.\n",
              " * @param {string} outputId Element ID of the output display.\n",
              " * @return {!Iterable<!Object>} Iterable of next steps.\n",
              " */\n",
              "function* uploadFilesStep(inputId, outputId) {\n",
              "  const inputElement = document.getElementById(inputId);\n",
              "  inputElement.disabled = false;\n",
              "\n",
              "  const outputElement = document.getElementById(outputId);\n",
              "  outputElement.innerHTML = '';\n",
              "\n",
              "  const pickedPromise = new Promise((resolve) => {\n",
              "    inputElement.addEventListener('change', (e) => {\n",
              "      resolve(e.target.files);\n",
              "    });\n",
              "  });\n",
              "\n",
              "  const cancel = document.createElement('button');\n",
              "  inputElement.parentElement.appendChild(cancel);\n",
              "  cancel.textContent = 'Cancel upload';\n",
              "  const cancelPromise = new Promise((resolve) => {\n",
              "    cancel.onclick = () => {\n",
              "      resolve(null);\n",
              "    };\n",
              "  });\n",
              "\n",
              "  // Wait for the user to pick the files.\n",
              "  const files = yield {\n",
              "    promise: Promise.race([pickedPromise, cancelPromise]),\n",
              "    response: {\n",
              "      action: 'starting',\n",
              "    }\n",
              "  };\n",
              "\n",
              "  cancel.remove();\n",
              "\n",
              "  // Disable the input element since further picks are not allowed.\n",
              "  inputElement.disabled = true;\n",
              "\n",
              "  if (!files) {\n",
              "    return {\n",
              "      response: {\n",
              "        action: 'complete',\n",
              "      }\n",
              "    };\n",
              "  }\n",
              "\n",
              "  for (const file of files) {\n",
              "    const li = document.createElement('li');\n",
              "    li.append(span(file.name, {fontWeight: 'bold'}));\n",
              "    li.append(span(\n",
              "        `(${file.type || 'n/a'}) - ${file.size} bytes, ` +\n",
              "        `last modified: ${\n",
              "            file.lastModifiedDate ? file.lastModifiedDate.toLocaleDateString() :\n",
              "                                    'n/a'} - `));\n",
              "    const percent = span('0% done');\n",
              "    li.appendChild(percent);\n",
              "\n",
              "    outputElement.appendChild(li);\n",
              "\n",
              "    const fileDataPromise = new Promise((resolve) => {\n",
              "      const reader = new FileReader();\n",
              "      reader.onload = (e) => {\n",
              "        resolve(e.target.result);\n",
              "      };\n",
              "      reader.readAsArrayBuffer(file);\n",
              "    });\n",
              "    // Wait for the data to be ready.\n",
              "    let fileData = yield {\n",
              "      promise: fileDataPromise,\n",
              "      response: {\n",
              "        action: 'continue',\n",
              "      }\n",
              "    };\n",
              "\n",
              "    // Use a chunked sending to avoid message size limits. See b/62115660.\n",
              "    let position = 0;\n",
              "    do {\n",
              "      const length = Math.min(fileData.byteLength - position, MAX_PAYLOAD_SIZE);\n",
              "      const chunk = new Uint8Array(fileData, position, length);\n",
              "      position += length;\n",
              "\n",
              "      const base64 = btoa(String.fromCharCode.apply(null, chunk));\n",
              "      yield {\n",
              "        response: {\n",
              "          action: 'append',\n",
              "          file: file.name,\n",
              "          data: base64,\n",
              "        },\n",
              "      };\n",
              "\n",
              "      let percentDone = fileData.byteLength === 0 ?\n",
              "          100 :\n",
              "          Math.round((position / fileData.byteLength) * 100);\n",
              "      percent.textContent = `${percentDone}% done`;\n",
              "\n",
              "    } while (position < fileData.byteLength);\n",
              "  }\n",
              "\n",
              "  // All done.\n",
              "  yield {\n",
              "    response: {\n",
              "      action: 'complete',\n",
              "    }\n",
              "  };\n",
              "}\n",
              "\n",
              "scope.google = scope.google || {};\n",
              "scope.google.colab = scope.google.colab || {};\n",
              "scope.google.colab._files = {\n",
              "  _uploadFiles,\n",
              "  _uploadFilesContinue,\n",
              "};\n",
              "})(self);\n",
              "</script> "
            ]
          },
          "metadata": {}
        },
        {
          "output_type": "stream",
          "name": "stdout",
          "text": [
            "Saving C1_thinF_IMG_20150604_104722_cell_115.png to C1_thinF_IMG_20150604_104722_cell_115.png\n",
            "\u001b[1m1/1\u001b[0m \u001b[32m━━━━━━━━━━━━━━━━━━━━\u001b[0m\u001b[37m\u001b[0m \u001b[1m0s\u001b[0m 41ms/step\n"
          ]
        },
        {
          "output_type": "display_data",
          "data": {
            "text/plain": [
              "<Figure size 640x480 with 1 Axes>"
            ],
            "image/png": "[encoded data removed]"
          },
          "metadata": {}
        }
      ]
    },
    {
      "cell_type": "markdown",
      "source": [
        "It allows you to upload a custom image and test it with the trained malaria detection model.\n",
        "\n",
        "After uploading, the image is resized, normalized, and converted into a format suitable for the model.\n",
        "\n",
        "The model then predicts whether the cell is Parasitized (Infected) or Uninfected (Healthy).\n",
        "\n",
        "Finally, the image is displayed with the prediction result shown as the title."
      ],
      "metadata": {
        "id": "Tnfsz5KBvVKy"
      }
    },
    {
      "cell_type": "code",
      "source": [
        "model.save(\"malaria_model.h5\")"
      ],
      "metadata": {
        "colab": {
          "base_uri": "https://localhost:8080/"
        },
        "id": "gPJSUMLZswjC",
        "outputId": "74936b35-2d92-4f30-ac13-907b06d509b1"
      },
      "execution_count": 21,
      "outputs": [
        {
          "output_type": "stream",
          "name": "stderr",
          "text": [
            "WARNING:absl:You are saving your model as an HDF5 file via `model.save()` or `keras.saving.save_model(model)`. This file format is considered legacy. We recommend using instead the native Keras format, e.g. `model.save('my_model.keras')` or `keras.saving.save_model(model, 'my_model.keras')`. \n"
          ]
        }
      ]
    },
    {
      "cell_type": "markdown",
      "source": [
        "The saved file includes the model’s architecture, etc It’s useful for deployment or future use."
      ],
      "metadata": {
        "id": "2Q2WRWVuvzXD"
      }
    },
    {
      "cell_type": "code",
      "source": [
        "#backend\n",
        "import tensorflow as tf\n",
        "import numpy as np\n",
        "\n",
        "# Load trained model\n",
        "model = tf.keras.models.load_model(\"malaria_model.h5\")\n",
        "\n",
        "def predict(img):\n",
        "    img = img.resize((150,150))  # match training size\n",
        "    img = np.array(img) / 255.0\n",
        "    img = np.expand_dims(img, axis=0)\n",
        "    pred = model.predict(img)\n",
        "    return \"Uninfected (Healthy)\" if pred[0][0] > 0.5 else \"Parasitized (Infected)\"\n"
      ],
      "metadata": {
        "colab": {
          "base_uri": "https://localhost:8080/"
        },
        "id": "7jwdCoH1tfA-",
        "outputId": "d4e6134d-1805-476d-a9f5-bd49c23e2550"
      },
      "execution_count": 13,
      "outputs": [
        {
          "output_type": "stream",
          "name": "stderr",
          "text": [
            "WARNING:absl:Compiled the loaded model, but the compiled metrics have yet to be built. `model.compile_metrics` will be empty until you train or evaluate the model.\n"
          ]
        }
      ]
    },
    {
      "cell_type": "markdown",
      "source": [
        "It is used to reload the saved malaria model and create a simple function that can take any image and tell whether the cell is infected or healthy."
      ],
      "metadata": {
        "id": "XYIJ8BQ1wFyG"
      }
    },
    {
      "cell_type": "code",
      "source": [
        "# With Background Image\n",
        "\n",
        "\n",
        "import gradio as gr\n",
        "import tensorflow as tf\n",
        "import numpy as np\n",
        "from PIL import Image\n",
        "\n",
        "# Load trained model\n",
        "model = tf.keras.models.load_model(\"malaria_model.h5\")\n",
        "\n",
        "# Prediction function\n",
        "def predict(img):\n",
        "    img = img.resize((150,150))  # match training size\n",
        "    img = np.array(img) / 255.0\n",
        "    img = np.expand_dims(img, axis=0)\n",
        "    pred = model.predict(img)\n",
        "    return \"Uninfected (Healthy)\" if pred[0][0] > 0.5 else \"Parasitized (Infected)\"\n",
        "\n",
        "# Google Drive direct image link\n",
        "#bg_image_url = \"https://drive.google.com/uc?export=download&id=1-RsKmBRtyc59Gy0_r8NJ8_3RhExpuG5Y\"\n",
        "# Google Drive direct image link\n",
        "bg_image_url = \"https://drive.google.com/uc?export=view&id=1-RsKmBRtyc59Gy0_r8NJ8_3RhExpuG5Y\"\n",
        "\n",
        "\n",
        "with gr.Blocks(theme=gr.themes.Soft(), css=\"\"\"\n",
        "    #main-container {\n",
        "        background-image: url(\"https://raw.githubusercontent.com/eldhoshaju/Malaria_Deep_Learning_Project/main/malaria_pic.jpg\");\n",
        "        background-size: cover;\n",
        "        background-position: center;\n",
        "        border-radius: 20px;\n",
        "        padding: 20px;\n",
        "        min-height: 100vh;\n",
        "    }\n",
        "    h1, p {\n",
        "        background-color: rgba(255, 255, 255, 0.7);\n",
        "        padding: 10px;\n",
        "        border-radius: 10px;\n",
        "    }\n",
        "\"\"\") as demo:\n",
        "\n",
        "\n",
        "    with gr.Column(elem_id=\"main-container\"):\n",
        "        gr.Markdown(\n",
        "            \"\"\"\n",
        "            <h1 style=\"text-align:center; color:#0073e6;\">\n",
        "                🧬 Malaria Cell Image Classification\n",
        "            </h1>\n",
        "            <p style=\"text-align:center; color:#333;\">\n",
        "                Upload a blood cell image. The model will predict whether the cell is\n",
        "                <b style=\"color:red;\">Parasitized (Infected)</b>\n",
        "                or\n",
        "                <b style=\"color:green;\">Uninfected (Healthy)</b>.\n",
        "            </p>\n",
        "            \"\"\"\n",
        "        )\n",
        "\n",
        "        with gr.Row():\n",
        "            with gr.Column(scale=1):\n",
        "                input_img = gr.Image(type=\"pil\", label=\"Upload Cell Image\")\n",
        "                btn = gr.Button(\"🔍 Submit\")\n",
        "\n",
        "            with gr.Column(scale=1):\n",
        "                output_label = gr.Label(label=\"Prediction\")\n",
        "\n",
        "        btn.click(fn=predict, inputs=input_img, outputs=output_label)\n",
        "\n",
        "demo.launch()\n"
      ],
      "metadata": {
        "colab": {
          "base_uri": "https://localhost:8080/",
          "height": 663
        },
        "id": "Io8H_Tgy2-ff",
        "outputId": "ad3a842d-02b8-4b09-8c9d-20c291f81321"
      },
      "execution_count": 15,
      "outputs": [
        {
          "output_type": "stream",
          "name": "stderr",
          "text": [
            "WARNING:absl:Compiled the loaded model, but the compiled metrics have yet to be built. `model.compile_metrics` will be empty until you train or evaluate the model.\n"
          ]
        },
        {
          "output_type": "stream",
          "name": "stdout",
          "text": [
            "It looks like you are running Gradio on a hosted Jupyter notebook, which requires `share=True`. Automatically setting `share=True` (you can turn this off by setting `share=False` in `launch()` explicitly).\n",
            "\n",
            "Colab notebook detected. To show errors in colab notebook, set debug=True in launch()\n",
            "* Running on public URL: https://42330c36abf733a075.gradio.live\n",
            "\n",
            "This share link expires in 1 week. For free permanent hosting and GPU upgrades, run `gradio deploy` from the terminal in the working directory to deploy to Hugging Face Spaces (https://huggingface.co/spaces)\n"
          ]
        },
        {
          "output_type": "display_data",
          "data": {
            "text/plain": [
              "<IPython.core.display.HTML object>"
            ],
            "text/html": [
              "<div><iframe src=\"https://42330c36abf733a075.gradio.live\" width=\"100%\" height=\"500\" allow=\"autoplay; camera; microphone; clipboard-read; clipboard-write;\" frameborder=\"0\" allowfullscreen></iframe></div>"
            ]
          },
          "metadata": {}
        },
        {
          "output_type": "execute_result",
          "data": {
            "text/plain": []
          },
          "metadata": {},
          "execution_count": 15
        }
      ]
    },
    {
      "cell_type": "code",
      "source": [],
      "metadata": {
        "id": "cNERcwSuuqz1"
      },
      "execution_count": null,
      "outputs": []
    }
  ]
}